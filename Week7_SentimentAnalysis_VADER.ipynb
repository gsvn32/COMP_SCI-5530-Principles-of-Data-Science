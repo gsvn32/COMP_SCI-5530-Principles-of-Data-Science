{
  "nbformat": 4,
  "nbformat_minor": 0,
  "metadata": {
    "colab": {
      "provenance": [],
      "include_colab_link": true
    },
    "kernelspec": {
      "name": "python3",
      "display_name": "Python 3"
    },
    "language_info": {
      "name": "python"
    }
  },
  "cells": [
    {
      "cell_type": "markdown",
      "metadata": {
        "id": "view-in-github",
        "colab_type": "text"
      },
      "source": [
        "<a href=\"https://colab.research.google.com/github/gsvn32/COMP_SCI-5530-Principles-of-Data-Science/blob/main/Week7_SentimentAnalysis_VADER.ipynb\" target=\"_parent\"><img src=\"https://colab.research.google.com/assets/colab-badge.svg\" alt=\"Open In Colab\"/></a>"
      ]
    },
    {
      "cell_type": "markdown",
      "metadata": {
        "id": "IkXfs59U7V0M"
      },
      "source": [
        "**Sentiment analysis without labels with VADER**\n",
        "\n",
        "In this ICP we will quickly learn about how to perform sentiment analysis wihtout labels (negative,positive, and neutral)\n",
        "\n",
        "VADER (Valence Aware Dictionary and Sentiment Reasoner) is a lexicon and rule-based sentiment analysis tool that is specifically attuned to sentiments expressed in social media. VADER uses a combination of A sentiment lexicon is a list of lexical features (e.g., words) which are generally labelled according to their semantic orientation as either positive or negative.\n",
        "\n",
        "VADER is a model used for text sentiment analysis that is sensitive to both polarity (positive/negative) and intensity (strength) of emotion. It can be applied directly to unlabeled text data.\n",
        "\n",
        "VADER sentimental analysis relies on a dictionary that maps lexical features to emotion intensities known as sentiment scores. The sentiment score of a text can be obtained by summing up the intensity of each word in the text.\n",
        "For example- Words like ‘love’, ‘enjoy’, ‘happy’, ‘like’ all convey a positive sentiment. Also VADER is intelligent enough to understand the basic context of these words, such as “did not love” as a negative statement. It also understands the emphasis of capitalization and punctuation, such as “ENJOY”\n",
        "\n",
        "**Polarity classification**\n",
        "\n",
        "VADER is mainly used for polarity classification, in this approach We won’t try to determine if a sentence is objective or subjective, fact or opinion. Rather, we care only if the text expresses a positive, negative or neutral opinion.\n",
        "\n",
        "VADER has been found to be quite successful when dealing with social media texts, NY Times editorials, movie reviews, and product reviews. This is because VADER not only tells about the Positivity and Negativity score but also tells us about how positive or negative a sentiment is.\n",
        "It is fully open-sourced under the MIT License."
      ]
    },
    {
      "cell_type": "markdown",
      "metadata": {
        "id": "4s_tOox89OAk"
      },
      "source": [
        "**Advantages of using VADER**\n",
        "\n",
        "VADER has a lot of advantages over traditional methods of Sentiment Analysis, including:\n",
        "\n",
        ">It works exceedingly well on social media type text, yet readily generalizes to multiple domains\n",
        "\n",
        ">It doesn’t require any training data but is constructed from a generalizable, valence-based, human-curated gold standard sentiment lexicon\n",
        "\n",
        ">It is fast enough to be used online with streaming data, and\n",
        "\n",
        ">It does not severely suffer from a speed-performance tradeoff.\n",
        "\n",
        "(Note: The source of this information is the paper published by creaters of VADER library. You can read the paper here [VADER paper](http://comp.social.gatech.edu/papers/icwsm14.vader.hutto.pdf)"
      ]
    },
    {
      "cell_type": "markdown",
      "metadata": {
        "id": "eHl4YKCB-B5l"
      },
      "source": [
        "Lets begin our ICP by installing the library."
      ]
    },
    {
      "cell_type": "code",
      "metadata": {
        "colab": {
          "base_uri": "https://localhost:8080/"
        },
        "id": "HtDfPlaC7U0b",
        "outputId": "490a369c-4115-4299-c92c-9cda4c64a967"
      },
      "source": [
        "!pip install vaderSentiment"
      ],
      "execution_count": 1,
      "outputs": [
        {
          "output_type": "stream",
          "name": "stdout",
          "text": [
            "Collecting vaderSentiment\n",
            "  Downloading vaderSentiment-3.3.2-py2.py3-none-any.whl (125 kB)\n",
            "\u001b[2K     \u001b[90m━━━━━━━━━━━━━━━━━━━━━━━━━━━━━━━━━━━━━━━━\u001b[0m \u001b[32m126.0/126.0 kB\u001b[0m \u001b[31m1.0 MB/s\u001b[0m eta \u001b[36m0:00:00\u001b[0m\n",
            "\u001b[?25hRequirement already satisfied: requests in /usr/local/lib/python3.10/dist-packages (from vaderSentiment) (2.31.0)\n",
            "Requirement already satisfied: charset-normalizer<4,>=2 in /usr/local/lib/python3.10/dist-packages (from requests->vaderSentiment) (3.3.2)\n",
            "Requirement already satisfied: idna<4,>=2.5 in /usr/local/lib/python3.10/dist-packages (from requests->vaderSentiment) (3.7)\n",
            "Requirement already satisfied: urllib3<3,>=1.21.1 in /usr/local/lib/python3.10/dist-packages (from requests->vaderSentiment) (2.0.7)\n",
            "Requirement already satisfied: certifi>=2017.4.17 in /usr/local/lib/python3.10/dist-packages (from requests->vaderSentiment) (2024.6.2)\n",
            "Installing collected packages: vaderSentiment\n",
            "Successfully installed vaderSentiment-3.3.2\n"
          ]
        }
      ]
    },
    {
      "cell_type": "markdown",
      "metadata": {
        "id": "nW9Y9GHN-S2r"
      },
      "source": [
        "Once VADER is installed let us call the SentimentIntensityAnalyser object"
      ]
    },
    {
      "cell_type": "code",
      "metadata": {
        "id": "Q5z-MTcL-TPn"
      },
      "source": [
        "from vaderSentiment.vaderSentiment import SentimentIntensityAnalyzer\n",
        "analyser = SentimentIntensityAnalyzer()"
      ],
      "execution_count": 2,
      "outputs": []
    },
    {
      "cell_type": "markdown",
      "metadata": {
        "id": "rMNsaWgG-cVW"
      },
      "source": [
        "**Working & Scoring**\n",
        "\n",
        "Let us test our first sentiment using VADER now. We will use the polarity_scores() method to obtain the polarity indices for the given sentence."
      ]
    },
    {
      "cell_type": "code",
      "metadata": {
        "id": "arDNzqin-gPD"
      },
      "source": [
        "def sentiment_analyzer_scores(sentence):\n",
        "    score = analyser.polarity_scores(sentence)\n",
        "    print(\"{:-<4} {}\".format(sentence, str(score)))"
      ],
      "execution_count": 3,
      "outputs": []
    },
    {
      "cell_type": "markdown",
      "metadata": {
        "id": "aPlRaXiB-gj_"
      },
      "source": [
        "Let us check how VADER performs on a given review:"
      ]
    },
    {
      "cell_type": "code",
      "metadata": {
        "colab": {
          "base_uri": "https://localhost:8080/"
        },
        "id": "b9NragjL-gup",
        "outputId": "f6831ce1-9b78-4a72-be2e-7cbc46f5846f"
      },
      "source": [
        "sentiment_analyzer_scores(\"This is such a good problem to worry.\")"
      ],
      "execution_count": 4,
      "outputs": [
        {
          "output_type": "stream",
          "name": "stdout",
          "text": [
            "This is such a good problem to worry. {'neg': 0.415, 'neu': 0.37, 'pos': 0.215, 'compound': -0.4019}\n"
          ]
        }
      ]
    },
    {
      "cell_type": "markdown",
      "metadata": {
        "id": "_ifULapt-hB1"
      },
      "source": [
        "The Positive, Negative and Neutral scores represent the proportion of text that falls in these categories. This means our sentence was rated as 22% Positive, 37% Neutral and 42% Negative. Hence all these should add up to 1.\n",
        "\n",
        "The Compound score is a metric that calculates the sum of all the lexicon ratings which have been normalized between -1(most extreme negative) and +1 (most extreme positive). In the case above, the compound score turns out to be -0.4019 , denoting a very negative sentiment.\n",
        "\n",
        "**Compund Score metric**\n",
        ">Positive sentiment (Compund score >=0.05)\n",
        "\n",
        ">Neutral sentiment (Compund score > - 0.05) and (Compund score < 0.05)\n",
        "\n",
        ">Negative sentiment (Compund score <= -0.05)\n",
        "\n",
        "\n",
        "read [here](https://github.com/cjhutto/vaderSentiment#about-the-scoring) for more details on VADER scoring methodology."
      ]
    },
    {
      "cell_type": "markdown",
      "metadata": {
        "id": "Ais68qlpAgNU"
      },
      "source": [
        "VADER analyses sentiments primarily based on certain key points:\n",
        "\n",
        ">Punctuation: The use of an exclamation mark(!), increases the magnitude of the intensity without modifying the semantic orientation. For example, “The food here is good!” is more intense than “The food here is good.” and an increase in the number of (!), increases the magnitude accordingly."
      ]
    },
    {
      "cell_type": "code",
      "metadata": {
        "colab": {
          "base_uri": "https://localhost:8080/"
        },
        "id": "bpf3MU9d-hVI",
        "outputId": "c8b87bca-da6e-49db-cfc4-b3af937fb866"
      },
      "source": [
        "# Baselinse Sentence\n",
        "sentiment_analyzer_scores(\"The food here is good\")"
      ],
      "execution_count": 5,
      "outputs": [
        {
          "output_type": "stream",
          "name": "stdout",
          "text": [
            "The food here is good {'neg': 0.0, 'neu': 0.58, 'pos': 0.42, 'compound': 0.4404}\n"
          ]
        }
      ]
    },
    {
      "cell_type": "markdown",
      "metadata": {
        "id": "4N2dXn-N-hlo"
      },
      "source": [
        "lets see the results with punctiuations. Notice how the overall compound score is increasing with the increase in exclamation marks."
      ]
    },
    {
      "cell_type": "code",
      "metadata": {
        "colab": {
          "base_uri": "https://localhost:8080/"
        },
        "id": "NSju-cnu-hya",
        "outputId": "5a6aa527-5937-49d4-cdc0-dc2b972be1b7"
      },
      "source": [
        "# Punctuation\n",
        "print(sentiment_analyzer_scores(\"The food here is good!\"))\n",
        "print(sentiment_analyzer_scores(\"The food here is good!!\"))\n",
        "print(sentiment_analyzer_scores(\"The food here is good!!!\"))\n",
        "print(sentiment_analyzer_scores(\"The food here is good!!!!\"))\n"
      ],
      "execution_count": 25,
      "outputs": [
        {
          "output_type": "stream",
          "name": "stdout",
          "text": [
            "The food here is good! {'neg': 0.0, 'neu': 0.556, 'pos': 0.444, 'compound': 0.4926}\n",
            "None\n",
            "The food here is good!! {'neg': 0.0, 'neu': 0.534, 'pos': 0.466, 'compound': 0.5399}\n",
            "None\n",
            "The food here is good!!! {'neg': 0.0, 'neu': 0.514, 'pos': 0.486, 'compound': 0.5826}\n",
            "None\n",
            "The food here is good!!!! {'neg': 0.0, 'neu': 0.496, 'pos': 0.504, 'compound': 0.6209}\n",
            "None\n"
          ]
        }
      ]
    },
    {
      "cell_type": "markdown",
      "metadata": {
        "id": "OQDDl8MHBjgC"
      },
      "source": [
        ">Capitalization: Using upper case letters to emphasize a sentiment-relevant word in the presence of other non-capitalized words, increases the magnitude of the sentiment intensity. For example, “The food here is GREAT!” conveys more intensity than “The food here is great!”"
      ]
    },
    {
      "cell_type": "code",
      "metadata": {
        "colab": {
          "base_uri": "https://localhost:8080/"
        },
        "id": "xxXZQ8wvBjr8",
        "outputId": "2b8a5cdf-200d-4e68-bb49-7210272bd12c"
      },
      "source": [
        "# Baselinse Sentence\n",
        "sentiment_analyzer_scores(\"The food here is great!\")"
      ],
      "execution_count": 7,
      "outputs": [
        {
          "output_type": "stream",
          "name": "stdout",
          "text": [
            "The food here is great! {'neg': 0.0, 'neu': 0.477, 'pos': 0.523, 'compound': 0.6588}\n"
          ]
        }
      ]
    },
    {
      "cell_type": "markdown",
      "metadata": {
        "id": "xrrhSVX7Bj_5"
      },
      "source": [
        "lets use capitalization. Notice how the overall compound score increased"
      ]
    },
    {
      "cell_type": "code",
      "metadata": {
        "colab": {
          "base_uri": "https://localhost:8080/"
        },
        "id": "_F_m98GQBkLv",
        "outputId": "16fae085-d24b-4ba1-9a7b-d56aab86155f"
      },
      "source": [
        "# using capitol word\n",
        "sentiment_analyzer_scores(\"The food here is GREAT!\")"
      ],
      "execution_count": 8,
      "outputs": [
        {
          "output_type": "stream",
          "name": "stdout",
          "text": [
            "The food here is GREAT! {'neg': 0.0, 'neu': 0.438, 'pos': 0.562, 'compound': 0.729}\n"
          ]
        }
      ]
    },
    {
      "cell_type": "markdown",
      "metadata": {
        "id": "aI3Q-HJCBkcT"
      },
      "source": [
        ">Degree modifiers: Also called intensifiers, they impact the sentiment intensity by either increasing or decreasing the intensity. For example, “The service here is extremely good” is more intense than “The service here is good”, whereas “The service here is marginally good” reduces the intensity."
      ]
    },
    {
      "cell_type": "code",
      "metadata": {
        "colab": {
          "base_uri": "https://localhost:8080/"
        },
        "id": "rx0SxrqGBk0m",
        "outputId": "ff962d09-6446-4a94-ebe9-38da0080d827"
      },
      "source": [
        "print(sentiment_analyzer_scores(\"The service here is good\"))\n",
        "print(sentiment_analyzer_scores(\"The service here is extremely good\"))\n",
        "print(sentiment_analyzer_scores(\"The service here is marginally good\"))"
      ],
      "execution_count": 9,
      "outputs": [
        {
          "output_type": "stream",
          "name": "stdout",
          "text": [
            "The service here is good {'neg': 0.0, 'neu': 0.58, 'pos': 0.42, 'compound': 0.4404}\n",
            "None\n",
            "The service here is extremely good {'neg': 0.0, 'neu': 0.61, 'pos': 0.39, 'compound': 0.4927}\n",
            "None\n",
            "The service here is marginally good {'neg': 0.0, 'neu': 0.657, 'pos': 0.343, 'compound': 0.3832}\n",
            "None\n"
          ]
        }
      ]
    },
    {
      "cell_type": "markdown",
      "metadata": {
        "id": "qYBLEUAVDRmH"
      },
      "source": [
        ">Conjunctions: Use of conjunctions like “but” signals a shift in sentiment polarity, with the sentiment of the text following the conjunction being dominant. “The food here is great, but the service is horrible” has mixed sentiment, with the latter half dictating the overall rating."
      ]
    },
    {
      "cell_type": "code",
      "metadata": {
        "colab": {
          "base_uri": "https://localhost:8080/"
        },
        "id": "jmA6nq8ADR9p",
        "outputId": "f5da57f6-5ad0-41bd-e543-bfc31a2a37bd"
      },
      "source": [
        "# Comjunctions\n",
        "sentiment_analyzer_scores('The food here is great, but the service is horrible')"
      ],
      "execution_count": 10,
      "outputs": [
        {
          "output_type": "stream",
          "name": "stdout",
          "text": [
            "The food here is great, but the service is horrible {'neg': 0.31, 'neu': 0.523, 'pos': 0.167, 'compound': -0.4939}\n"
          ]
        }
      ]
    },
    {
      "cell_type": "markdown",
      "metadata": {
        "id": "eeJRjcmzDSWb"
      },
      "source": [
        "**Handling Emojis, Slangs, and Emoticons.**\n",
        "\n",
        "VADER performs very well with emojis, slangs, and emoticons in sentences. Let us see each with an example."
      ]
    },
    {
      "cell_type": "code",
      "metadata": {
        "colab": {
          "base_uri": "https://localhost:8080/"
        },
        "id": "eCU_KhC6DSqt",
        "outputId": "7dd3b687-66c4-4463-e63f-d50aca76113d"
      },
      "source": [
        "#Emojis\n",
        "print(sentiment_analyzer_scores('I am 😄 today'))\n",
        "print(sentiment_analyzer_scores('😊'))\n",
        "print(sentiment_analyzer_scores('😥'))\n",
        "print(sentiment_analyzer_scores('☹️'))"
      ],
      "execution_count": 11,
      "outputs": [
        {
          "output_type": "stream",
          "name": "stdout",
          "text": [
            "I am 😄 today {'neg': 0.0, 'neu': 0.522, 'pos': 0.478, 'compound': 0.6705}\n",
            "None\n",
            "😊--- {'neg': 0.0, 'neu': 0.333, 'pos': 0.667, 'compound': 0.7184}\n",
            "None\n",
            "😥--- {'neg': 0.275, 'neu': 0.268, 'pos': 0.456, 'compound': 0.3291}\n",
            "None\n",
            "☹️-- {'neg': 0.706, 'neu': 0.294, 'pos': 0.0, 'compound': -0.34}\n",
            "None\n"
          ]
        }
      ]
    },
    {
      "cell_type": "code",
      "metadata": {
        "colab": {
          "base_uri": "https://localhost:8080/"
        },
        "id": "Hidmr-FVEEr7",
        "outputId": "497bca1a-a334-4831-bbfb-ca90179e70ff"
      },
      "source": [
        "# Slangs\n",
        "print(sentiment_analyzer_scores(\"Today SUX!\"))\n",
        "print(sentiment_analyzer_scores(\"Today only kinda sux! But I'll get by, lol\"))"
      ],
      "execution_count": 12,
      "outputs": [
        {
          "output_type": "stream",
          "name": "stdout",
          "text": [
            "Today SUX! {'neg': 0.779, 'neu': 0.221, 'pos': 0.0, 'compound': -0.5461}\n",
            "None\n",
            "Today only kinda sux! But I'll get by, lol {'neg': 0.127, 'neu': 0.556, 'pos': 0.317, 'compound': 0.5249}\n",
            "None\n"
          ]
        }
      ]
    },
    {
      "cell_type": "code",
      "metadata": {
        "colab": {
          "base_uri": "https://localhost:8080/"
        },
        "id": "_xEnflxyJqrp",
        "outputId": "8db8033f-1f48-4abe-dfdd-eb1b27071ef4"
      },
      "source": [
        "# Emoticons\n",
        "print(sentiment_analyzer_scores(\"Make sure you :) or :D today!\"))"
      ],
      "execution_count": 13,
      "outputs": [
        {
          "output_type": "stream",
          "name": "stdout",
          "text": [
            "Make sure you :) or :D today! {'neg': 0.0, 'neu': 0.294, 'pos': 0.706, 'compound': 0.8633}\n",
            "None\n"
          ]
        }
      ]
    },
    {
      "cell_type": "markdown",
      "metadata": {
        "id": "1TV_mRV0KHyw"
      },
      "source": [
        "VADER can easily detect sentiment from emojis and slangs which form an important component of the social media environment."
      ]
    },
    {
      "cell_type": "markdown",
      "metadata": {
        "id": "CA4AuHjgMDGl"
      },
      "source": [
        "**What else we can do with VADER?**\n",
        "\n",
        "We can use VADER to generate labels for data (that doesn't have any labels) and use traditional supervised models for sentiment analysis (ICP today). This is one of the many things we can do with this model."
      ]
    },
    {
      "cell_type": "markdown",
      "source": [
        "#ICP5\n",
        "- Get the unlabled data\n",
        "- define a analyser_sentence function that lables the given sentence\n",
        "- Label all the unlabled data\n",
        "- write the results to a csv file"
      ],
      "metadata": {
        "id": "biKBq_DOVsaz"
      }
    },
    {
      "cell_type": "code",
      "source": [
        "import csv\n",
        "\n",
        "# List of sentences\n",
        "sentences = [\n",
        "    \"The weather today is sunny.\",\n",
        "    \"I love eating pizza!!\",\n",
        "    \"He is studying for his exams.\",\n",
        "    \"The concert was amazing!\",\n",
        "    \"She goes to the gym every morning.\",\n",
        "    \"This movie is really boring.\",\n",
        "    \"They are planning a trip to Japan.\",\n",
        "    \"I finished reading the book.\",\n",
        "    \"The cake tastes delicious.\",\n",
        "    \"We went hiking last weekend.\",\n",
        "    \"She is learning to play the piano.\",\n",
        "    \"The traffic was TERRIBLE this morning.\",\n",
        "    \"He bought a new car.\",\n",
        "    \"The lecture was very informative.\",\n",
        "    \"They are organizing a charity event.\"\n",
        "]\n",
        "\n",
        "# Label  sentence based on compound caclulation\n",
        "def analyser_sentence(sentence):\n",
        "  sentiment=analyser.polarity_scores(sentence)['compound']\n",
        "  if sentiment>=0.05:\n",
        "    return \"positive\"\n",
        "  if sentiment<0.05 and sentiment>-0.05:\n",
        "    return \"neutral\"\n",
        "  if sentiment<=-0.05:\n",
        "    return \"negative\"\n",
        "\n",
        "# Label the data\n",
        "label_data = [(sentence,analyser_sentence(sentence)) for sentence in sentences]\n",
        "print(label_data)\n",
        "# Write labled data in a CSV file\n",
        "with open('labeled_sentences.csv', 'w', newline='') as csvfile:\n",
        "    writer = csv.writer(csvfile)\n",
        "    writer.writerow(['Sentence', 'Label'])\n",
        "    writer.writerows(label_data)\n",
        "\n",
        "print(\"\\nSuceesfully stored sentences to file labeled_sentences.csv\\n\")"
      ],
      "metadata": {
        "colab": {
          "base_uri": "https://localhost:8080/"
        },
        "id": "QBaiNj-MN0O9",
        "outputId": "660fa570-c2a1-4420-88b2-17c9d947c917"
      },
      "execution_count": 26,
      "outputs": [
        {
          "output_type": "stream",
          "name": "stdout",
          "text": [
            "[('The weather today is sunny.', 'positive'), ('I love eating pizza!!', 'positive'), ('He is studying for his exams.', 'neutral'), ('The concert was amazing!', 'positive'), ('She goes to the gym every morning.', 'neutral'), ('This movie is really boring.', 'negative'), ('They are planning a trip to Japan.', 'neutral'), ('I finished reading the book.', 'neutral'), ('The cake tastes delicious.', 'positive'), ('We went hiking last weekend.', 'neutral'), ('She is learning to play the piano.', 'positive'), ('The traffic was TERRIBLE this morning.', 'negative'), ('He bought a new car.', 'neutral'), ('The lecture was very informative.', 'neutral'), ('They are organizing a charity event.', 'positive')]\n",
            "\n",
            "Suceesfully stored sentences to file labeled_sentences.csv\n",
            "\n"
          ]
        }
      ]
    }
  ]
}